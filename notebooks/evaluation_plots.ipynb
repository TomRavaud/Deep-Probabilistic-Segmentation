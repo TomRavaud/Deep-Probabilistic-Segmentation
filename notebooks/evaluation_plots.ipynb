{
 "cells": [
  {
   "cell_type": "code",
   "execution_count": null,
   "metadata": {},
   "outputs": [],
   "source": [
    "# Standard libraries\n",
    "import pathlib\n",
    "\n",
    "# Third-party libraries\n",
    "import numpy as np\n",
    "import matplotlib.pyplot as plt"
   ]
  },
  {
   "cell_type": "code",
   "execution_count": null,
   "metadata": {},
   "outputs": [],
   "source": [
    "# Get logs directory\n",
    "runs_dir = pathlib.Path(\"../logs/evaluate/runs\")\n",
    "logs_dir = sorted(runs_dir.iterdir())[-1]\n",
    "\n",
    "logs_dir = pathlib.Path(\"../logs/evaluate/runs/2024-06-24_09-49-15_mlp_rbot\")\n",
    "\n",
    "results = np.load(logs_dir / \"results.npy\")"
   ]
  },
  {
   "cell_type": "code",
   "execution_count": null,
   "metadata": {},
   "outputs": [],
   "source": [
    "if results[0, -1] == \"N/A\":\n",
    "    # Get optimal errors\n",
    "    optimal_errors = np.float32(np.load(\n",
    "        \"../logs/evaluate/runs/2024-06-24_08-26-14_reference_histo_rbot/results.npy\"\n",
    "    )[:, -1])\n",
    "    \n",
    "    results[:, -1] = optimal_errors"
   ]
  },
  {
   "cell_type": "code",
   "execution_count": null,
   "metadata": {},
   "outputs": [],
   "source": [
    "# Get scenes\n",
    "scenes = sorted(set(results[:, 1]))\n",
    "\n",
    "# One plot per scene\n",
    "for scene in scenes:\n",
    "    \n",
    "    # Filter results by scene\n",
    "    result_scene = results[results[:, 1] == scene]\n",
    "    \n",
    "    # Get models\n",
    "    models = sorted(set(result_scene[:, 0]))\n",
    "    \n",
    "    plt.figure()\n",
    "    \n",
    "    errors = []\n",
    "    errors_optimal = []\n",
    "    \n",
    "    for model in models:\n",
    "        \n",
    "        errors.append(\n",
    "            np.mean(\n",
    "                np.float32(result_scene[result_scene[:, 0] == model][:, 2])\n",
    "            )\n",
    "        )\n",
    "        errors_optimal.append(\n",
    "            np.mean(\n",
    "                np.float32(result_scene[result_scene[:, 0] == model][:, 3])\n",
    "            )\n",
    "        )\n",
    "        \n",
    "    # Plot error and optimal error at abscissa model\n",
    "    plt.scatter(list(models), errors, color=\"blue\", marker=\"^\", label=\"observed score\")\n",
    "    plt.scatter(list(models), errors_optimal, color=\"red\", marker=\"*\", label=\"optimal score\")\n",
    "    \n",
    "    plt.ylabel(\"Intersection over Union (IoU)\")\n",
    "    plt.title(scene)\n",
    "    plt.legend(loc=\"center right\")\n",
    "    plt.tight_layout()\n",
    "    plt.grid(axis=\"y\")\n",
    "    \n",
    "    # Rotate x-axis labels\n",
    "    plt.xticks(rotation=80)"
   ]
  }
 ],
 "metadata": {
  "kernelspec": {
   "display_name": "deepseg2",
   "language": "python",
   "name": "python3"
  },
  "language_info": {
   "codemirror_mode": {
    "name": "ipython",
    "version": 3
   },
   "file_extension": ".py",
   "mimetype": "text/x-python",
   "name": "python",
   "nbconvert_exporter": "python",
   "pygments_lexer": "ipython3",
   "version": "3.10.14"
  }
 },
 "nbformat": 4,
 "nbformat_minor": 2
}
