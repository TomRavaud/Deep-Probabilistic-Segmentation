{
 "cells": [
  {
   "cell_type": "markdown",
   "metadata": {},
   "source": [
    "# **Plot logged data**"
   ]
  },
  {
   "cell_type": "code",
   "execution_count": null,
   "metadata": {},
   "outputs": [],
   "source": [
    "# Standard libraries\n",
    "import pathlib\n",
    "\n",
    "# Third-party libraries\n",
    "import matplotlib.pyplot as plt\n",
    "import pandas as pd"
   ]
  },
  {
   "cell_type": "code",
   "execution_count": null,
   "metadata": {},
   "outputs": [],
   "source": [
    "# Get the log directory of the last training\n",
    "runs_dir = pathlib.Path(\"../logs/train/runs\")\n",
    "logs_dir = sorted(runs_dir.iterdir())[-1]"
   ]
  },
  {
   "cell_type": "code",
   "execution_count": null,
   "metadata": {},
   "outputs": [],
   "source": [
    "# Load the csv log file\n",
    "csv_path = logs_dir / \"csv/version_0/metrics.csv\"\n",
    "try:\n",
    "    csv_file = pd.read_csv(csv_path)\n",
    "except FileNotFoundError:\n",
    "    print(f\"File '{csv_path}' not found.\\nIt may not have been created yet. Please retry later.\")"
   ]
  },
  {
   "cell_type": "code",
   "execution_count": null,
   "metadata": {},
   "outputs": [],
   "source": [
    "def epochs_and_metric(\n",
    "    dataframe: pd.DataFrame,\n",
    "    metric_name: str,\n",
    ") -> tuple[pd.Series, pd.Series]:\n",
    "    \"\"\"Extract metric values and the corresponding epochs from a dataframe.\n",
    "\n",
    "    Args:\n",
    "        dataframe (pd.DataFrame): The dataframe containing the metric values and\n",
    "            epochs.\n",
    "        metric_name (str): The name of the metric to extract.\n",
    "\n",
    "    Returns:\n",
    "        tuple[pd.Series, pd.Series]: The epochs and the metric values.\n",
    "    \"\"\"\n",
    "    # Get the metric values\n",
    "    metric = dataframe[metric_name].dropna()\n",
    "    \n",
    "    # Retrieve the epochs by index\n",
    "    indexes = metric.index\n",
    "    epochs = dataframe[\"epoch\"].iloc[indexes].astype(int)\n",
    "    \n",
    "    return epochs, metric"
   ]
  },
  {
   "cell_type": "code",
   "execution_count": null,
   "metadata": {},
   "outputs": [],
   "source": [
    "# Plot losses\n",
    "plt.plot(*epochs_and_metric(csv_file, \"train/loss\"), \"bo--\", markersize=4, label=\"train loss\")\n",
    "plt.plot(*epochs_and_metric(csv_file, \"val/loss\"), \"ro--\", markersize=4, label=\"val loss\")\n",
    "plt.xlabel(\"Epoch\")\n",
    "plt.legend()\n",
    "plt.show()"
   ]
  },
  {
   "cell_type": "code",
   "execution_count": null,
   "metadata": {},
   "outputs": [],
   "source": [
    "# Plot learning rates\n",
    "lr = csv_file[\"lr-Adam\"].dropna()\n",
    "steps = csv_file[\"step\"].iloc[lr.index].astype(int)\n",
    "plt.plot(steps, lr, \"b\", label=\"learning rate\")\n",
    "plt.xlabel(\"Step\")\n",
    "plt.legend()\n",
    "plt.show()"
   ]
  }
 ],
 "metadata": {
  "kernelspec": {
   "display_name": "deepseg",
   "language": "python",
   "name": "python3"
  },
  "language_info": {
   "codemirror_mode": {
    "name": "ipython",
    "version": 3
   },
   "file_extension": ".py",
   "mimetype": "text/x-python",
   "name": "python",
   "nbconvert_exporter": "python",
   "pygments_lexer": "ipython3",
   "version": "3.10.14"
  }
 },
 "nbformat": 4,
 "nbformat_minor": 2
}
