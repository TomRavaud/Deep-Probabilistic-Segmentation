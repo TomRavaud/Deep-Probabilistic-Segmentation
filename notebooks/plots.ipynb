{
 "cells": [
  {
   "cell_type": "markdown",
   "metadata": {},
   "source": [
    "# **Plot logged data**"
   ]
  },
  {
   "cell_type": "code",
   "execution_count": null,
   "metadata": {},
   "outputs": [],
   "source": [
    "# Standard libraries\n",
    "import pathlib\n",
    "\n",
    "# Third-party libraries\n",
    "import matplotlib.pyplot as plt\n",
    "import pandas as pd"
   ]
  },
  {
   "cell_type": "code",
   "execution_count": null,
   "metadata": {},
   "outputs": [],
   "source": [
    "# Load the state_dict of the model from the checkpoint\n",
    "runs_dir = pathlib.Path(\"../logs/train/runs\")\n",
    "checkpoint = None\n",
    "# checkpoint = \"2024-05-14_05-04-08*\"\n",
    "# checkpoint = \"2024-05-18_12-36-39*\"\n",
    "\n",
    "if checkpoint is None:\n",
    "    # Get the last checkpoint\n",
    "    logs_dir = sorted(runs_dir.iterdir())[-1]\n",
    "else:\n",
    "    # Get the checkpoint with the specified name\n",
    "    logs_dir = runs_dir / checkpoint\n",
    "\n",
    "print(f\"Loading checkpoint from {logs_dir}\")"
   ]
  },
  {
   "cell_type": "code",
   "execution_count": null,
   "metadata": {},
   "outputs": [],
   "source": [
    "# Load the csv log file\n",
    "csv_path = logs_dir / \"csv/version_0/metrics.csv\"\n",
    "try:\n",
    "    csv_file = pd.read_csv(csv_path)\n",
    "except FileNotFoundError:\n",
    "    print(f\"File '{csv_path}' not found.\\nIt may not have been created yet. Please retry later.\")"
   ]
  },
  {
   "cell_type": "code",
   "execution_count": null,
   "metadata": {},
   "outputs": [],
   "source": [
    "def epochs_and_metric(\n",
    "    dataframe: pd.DataFrame,\n",
    "    metric_name: str,\n",
    ") -> tuple[pd.Series, pd.Series]:\n",
    "    \"\"\"Extract metric values and the corresponding epochs from a dataframe.\n",
    "\n",
    "    Args:\n",
    "        dataframe (pd.DataFrame): The dataframe containing the metric values and\n",
    "            epochs.\n",
    "        metric_name (str): The name of the metric to extract.\n",
    "\n",
    "    Returns:\n",
    "        tuple[pd.Series, pd.Series]: The epochs and the metric values.\n",
    "    \"\"\"\n",
    "    if metric_name not in dataframe.columns:\n",
    "        raise ValueError(f\"Metric '{metric_name}' not found in the dataframe.\")\n",
    "    \n",
    "    # Get the metric values\n",
    "    metric = dataframe[metric_name].dropna()\n",
    "    \n",
    "    # Retrieve the epochs by index\n",
    "    indexes = metric.index\n",
    "    epochs = dataframe[\"epoch\"].iloc[indexes].astype(int)\n",
    "    \n",
    "    return epochs, metric"
   ]
  },
  {
   "cell_type": "code",
   "execution_count": null,
   "metadata": {},
   "outputs": [],
   "source": [
    "# Plot losses\n",
    "plt.plot(\n",
    "    *epochs_and_metric(csv_file, \"train/loss\"),\n",
    "    \"bo--\", markersize=2, linewidth=0.5,\n",
    "    label=\"train loss\",\n",
    ")\n",
    "plt.plot(\n",
    "    *epochs_and_metric(csv_file, \"val/loss\"),\n",
    "    \"ro--\", markersize=2, linewidth=0.5,\n",
    "    label=\"val loss\",\n",
    ")\n",
    "plt.xlabel(\"Epoch\")\n",
    "plt.legend()\n",
    "plt.tight_layout()\n",
    "plt.show()"
   ]
  },
  {
   "cell_type": "code",
   "execution_count": null,
   "metadata": {},
   "outputs": [],
   "source": [
    "# Plot learning rates\n",
    "lr = csv_file[\"lr-Adam\"].dropna()\n",
    "steps = csv_file[\"step\"].iloc[lr.index].astype(int)\n",
    "plt.plot(steps, lr, \"b\", label=\"learning rate\")\n",
    "plt.xlabel(\"Step\")\n",
    "plt.legend()\n",
    "plt.tight_layout()\n",
    "plt.show()"
   ]
  }
 ],
 "metadata": {
  "kernelspec": {
   "display_name": "deepseg",
   "language": "python",
   "name": "python3"
  },
  "language_info": {
   "codemirror_mode": {
    "name": "ipython",
    "version": 3
   },
   "file_extension": ".py",
   "mimetype": "text/x-python",
   "name": "python",
   "nbconvert_exporter": "python",
   "pygments_lexer": "ipython3",
   "version": "3.10.14"
  }
 },
 "nbformat": 4,
 "nbformat_minor": 2
}
